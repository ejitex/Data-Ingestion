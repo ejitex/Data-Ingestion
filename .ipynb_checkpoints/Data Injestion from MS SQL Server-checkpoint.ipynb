{
 "cells": [
  {
   "cell_type": "markdown",
   "id": "be2d93c1",
   "metadata": {},
   "source": [
    "### SQL Server Ingestion SQLALCHEMY"
   ]
  },
  {
   "cell_type": "code",
   "execution_count": 128,
   "id": "aab71dc9",
   "metadata": {},
   "outputs": [],
   "source": [
    "import pandas as pd\n",
    "import numpy as np\n",
    "from sqlalchemy import create_engine\n",
    "import matplotlib.pyplot as plt"
   ]
  },
  {
   "cell_type": "code",
   "execution_count": 100,
   "id": "1220daa4",
   "metadata": {},
   "outputs": [],
   "source": [
    "#making connection to local MS SQL server with window authentication\n",
    "server = \"DESKTOP-9CI5KOH\"\n",
    "database = \"AdventureWorksDW2019\"\n",
    "driver = \"SQL Server Native Client 11.0\"  #\"ODBC Driver 17for SQL Server\"\n",
    "connection_database = f'mssql://@{server}/{database}?driver={driver}'"
   ]
  },
  {
   "cell_type": "code",
   "execution_count": 119,
   "id": "381f1cea",
   "metadata": {},
   "outputs": [],
   "source": [
    "engine = create_engine(connection_database)\n",
    "connection = engine.connect()"
   ]
  },
  {
   "cell_type": "code",
   "execution_count": 131,
   "id": "edcf9902",
   "metadata": {},
   "outputs": [],
   "source": [
    "internet_sales_data = pd.read_sql(\"\"\"SELECT fs.ProductKey,\n",
    "p.EnglishProductName,\n",
    "p.EnglishDescription,\n",
    "sp.EnglishProductSubcategoryName,\n",
    "cp.EnglishProductCategoryName,\n",
    "fs.SalesOrderNumber,\n",
    "fs.UnitPrice,\n",
    "fs.ExtendedAmount, \n",
    "fs.OrderQuantity,\n",
    "fs.ProductStandardCost,\n",
    "fs.TotalProductCost,\n",
    "fs.SalesAmount,\n",
    "fs.TaxAmt,\n",
    "fs.Freight,\n",
    "fs.OrderDate,\n",
    "fs.ShipDate,\n",
    "fs.DueDate,\n",
    "p.Color,\n",
    "p.Size, \n",
    "p.SafetyStockLevel\n",
    "FROM [dbo].[FactInternetSales] AS fs\n",
    "INNER JOIN [dbo].[DimProduct] AS p\n",
    "ON fs.ProductKey = p.ProductKey\n",
    "INNER JOIN [dbo].[DimProductSubcategory] AS sp\n",
    "ON p.ProductSubcategoryKey = sp.ProductSubcategoryKey\n",
    "INNER JOIN [dbo].[DimProductCategory] AS cp\n",
    "ON sp.ProductCategoryKey = cp.ProductCategoryKey;\"\"\", connection)"
   ]
  },
  {
   "cell_type": "code",
   "execution_count": 132,
   "id": "84075ca9",
   "metadata": {},
   "outputs": [
    {
     "name": "stdout",
     "output_type": "stream",
     "text": [
      "   ProductKey       EnglishProductName  \\\n",
      "0         310         Road-150 Red, 62   \n",
      "1         346  Mountain-100 Silver, 44   \n",
      "2         346  Mountain-100 Silver, 44   \n",
      "\n",
      "                                  EnglishDescription  \\\n",
      "0  This bike is ridden by race winners. Developed...   \n",
      "1  Top-of-the-line competition mountain bike. Per...   \n",
      "2  Top-of-the-line competition mountain bike. Per...   \n",
      "\n",
      "  EnglishProductSubcategoryName EnglishProductCategoryName SalesOrderNumber  \\\n",
      "0                    Road Bikes                      Bikes          SO43697   \n",
      "1                Mountain Bikes                      Bikes          SO43698   \n",
      "2                Mountain Bikes                      Bikes          SO43699   \n",
      "\n",
      "   UnitPrice  ExtendedAmount  OrderQuantity  ProductStandardCost  \\\n",
      "0    3578.27         3578.27              1            2171.2942   \n",
      "1    3399.99         3399.99              1            1912.1544   \n",
      "2    3399.99         3399.99              1            1912.1544   \n",
      "\n",
      "   TotalProductCost  SalesAmount    TaxAmt  Freight  OrderDate   ShipDate  \\\n",
      "0         2171.2942      3578.27  286.2616  89.4568 2010-12-29 2011-01-05   \n",
      "1         1912.1544      3399.99  271.9992  84.9998 2010-12-29 2011-01-05   \n",
      "2         1912.1544      3399.99  271.9992  84.9998 2010-12-29 2011-01-05   \n",
      "\n",
      "     DueDate   Color Size  SafetyStockLevel  \n",
      "0 2011-01-10     Red   62               100  \n",
      "1 2011-01-10  Silver   44               100  \n",
      "2 2011-01-10  Silver   44               100  \n"
     ]
    }
   ],
   "source": [
    "print(internet_sales_data.head(3))"
   ]
  },
  {
   "cell_type": "code",
   "execution_count": 133,
   "id": "5b174251",
   "metadata": {},
   "outputs": [
    {
     "data": {
      "text/plain": [
       "(60398, 20)"
      ]
     },
     "execution_count": 133,
     "metadata": {},
     "output_type": "execute_result"
    }
   ],
   "source": [
    "internet_sales_data.shape"
   ]
  },
  {
   "cell_type": "code",
   "execution_count": 134,
   "id": "6a03f367",
   "metadata": {},
   "outputs": [
    {
     "data": {
      "text/plain": [
       "ProductKey                                int64\n",
       "EnglishProductName                       object\n",
       "EnglishDescription                       object\n",
       "EnglishProductSubcategoryName            object\n",
       "EnglishProductCategoryName               object\n",
       "SalesOrderNumber                         object\n",
       "UnitPrice                               float64\n",
       "ExtendedAmount                          float64\n",
       "OrderQuantity                             int64\n",
       "ProductStandardCost                     float64\n",
       "TotalProductCost                        float64\n",
       "SalesAmount                             float64\n",
       "TaxAmt                                  float64\n",
       "Freight                                 float64\n",
       "OrderDate                        datetime64[ns]\n",
       "ShipDate                         datetime64[ns]\n",
       "DueDate                          datetime64[ns]\n",
       "Color                                    object\n",
       "Size                                     object\n",
       "SafetyStockLevel                          int64\n",
       "dtype: object"
      ]
     },
     "execution_count": 134,
     "metadata": {},
     "output_type": "execute_result"
    }
   ],
   "source": [
    "internet_sales_data.dtypes"
   ]
  },
  {
   "cell_type": "code",
   "execution_count": 135,
   "id": "0aabaf61",
   "metadata": {},
   "outputs": [
    {
     "data": {
      "text/plain": [
       "ProductKey                               object\n",
       "EnglishProductName                       object\n",
       "EnglishDescription                       object\n",
       "EnglishProductSubcategoryName            object\n",
       "EnglishProductCategoryName               object\n",
       "SalesOrderNumber                         object\n",
       "UnitPrice                               float64\n",
       "ExtendedAmount                          float64\n",
       "OrderQuantity                             int64\n",
       "ProductStandardCost                     float64\n",
       "TotalProductCost                        float64\n",
       "SalesAmount                             float64\n",
       "TaxAmt                                  float64\n",
       "Freight                                 float64\n",
       "OrderDate                        datetime64[ns]\n",
       "ShipDate                         datetime64[ns]\n",
       "DueDate                          datetime64[ns]\n",
       "Color                                    object\n",
       "Size                                     object\n",
       "SafetyStockLevel                          int64\n",
       "dtype: object"
      ]
     },
     "execution_count": 135,
     "metadata": {},
     "output_type": "execute_result"
    }
   ],
   "source": [
    "#product key from int type to string\n",
    "internet_sales_data[\"ProductKey\"] = internet_sales_data[\"ProductKey\"].apply(str)\n",
    "internet_sales_data.dtypes"
   ]
  },
  {
   "cell_type": "code",
   "execution_count": 136,
   "id": "35254532",
   "metadata": {},
   "outputs": [
    {
     "data": {
      "text/html": [
       "<div>\n",
       "<style scoped>\n",
       "    .dataframe tbody tr th:only-of-type {\n",
       "        vertical-align: middle;\n",
       "    }\n",
       "\n",
       "    .dataframe tbody tr th {\n",
       "        vertical-align: top;\n",
       "    }\n",
       "\n",
       "    .dataframe thead th {\n",
       "        text-align: right;\n",
       "    }\n",
       "</style>\n",
       "<table border=\"1\" class=\"dataframe\">\n",
       "  <thead>\n",
       "    <tr style=\"text-align: right;\">\n",
       "      <th></th>\n",
       "      <th>UnitPrice</th>\n",
       "      <th>ExtendedAmount</th>\n",
       "      <th>OrderQuantity</th>\n",
       "      <th>ProductStandardCost</th>\n",
       "      <th>TotalProductCost</th>\n",
       "      <th>SalesAmount</th>\n",
       "      <th>TaxAmt</th>\n",
       "      <th>Freight</th>\n",
       "      <th>SafetyStockLevel</th>\n",
       "    </tr>\n",
       "  </thead>\n",
       "  <tbody>\n",
       "    <tr>\n",
       "      <th>count</th>\n",
       "      <td>60398.000000</td>\n",
       "      <td>60398.000000</td>\n",
       "      <td>60398.0</td>\n",
       "      <td>60398.000000</td>\n",
       "      <td>60398.000000</td>\n",
       "      <td>60398.000000</td>\n",
       "      <td>60398.000000</td>\n",
       "      <td>60398.000000</td>\n",
       "      <td>60398.000000</td>\n",
       "    </tr>\n",
       "    <tr>\n",
       "      <th>mean</th>\n",
       "      <td>486.086911</td>\n",
       "      <td>486.086911</td>\n",
       "      <td>1.0</td>\n",
       "      <td>286.065657</td>\n",
       "      <td>286.065657</td>\n",
       "      <td>486.086911</td>\n",
       "      <td>38.886954</td>\n",
       "      <td>12.152217</td>\n",
       "      <td>144.296301</td>\n",
       "    </tr>\n",
       "    <tr>\n",
       "      <th>std</th>\n",
       "      <td>928.489892</td>\n",
       "      <td>928.489892</td>\n",
       "      <td>0.0</td>\n",
       "      <td>552.457641</td>\n",
       "      <td>552.457641</td>\n",
       "      <td>928.489892</td>\n",
       "      <td>74.279193</td>\n",
       "      <td>23.212248</td>\n",
       "      <td>200.592882</td>\n",
       "    </tr>\n",
       "    <tr>\n",
       "      <th>min</th>\n",
       "      <td>2.290000</td>\n",
       "      <td>2.290000</td>\n",
       "      <td>1.0</td>\n",
       "      <td>0.856500</td>\n",
       "      <td>0.856500</td>\n",
       "      <td>2.290000</td>\n",
       "      <td>0.183200</td>\n",
       "      <td>0.057300</td>\n",
       "      <td>4.000000</td>\n",
       "    </tr>\n",
       "    <tr>\n",
       "      <th>25%</th>\n",
       "      <td>7.950000</td>\n",
       "      <td>7.950000</td>\n",
       "      <td>1.0</td>\n",
       "      <td>2.973300</td>\n",
       "      <td>2.973300</td>\n",
       "      <td>7.950000</td>\n",
       "      <td>0.636000</td>\n",
       "      <td>0.198800</td>\n",
       "      <td>4.000000</td>\n",
       "    </tr>\n",
       "    <tr>\n",
       "      <th>50%</th>\n",
       "      <td>29.990000</td>\n",
       "      <td>29.990000</td>\n",
       "      <td>1.0</td>\n",
       "      <td>11.216300</td>\n",
       "      <td>11.216300</td>\n",
       "      <td>29.990000</td>\n",
       "      <td>2.399200</td>\n",
       "      <td>0.749800</td>\n",
       "      <td>4.000000</td>\n",
       "    </tr>\n",
       "    <tr>\n",
       "      <th>75%</th>\n",
       "      <td>539.990000</td>\n",
       "      <td>539.990000</td>\n",
       "      <td>1.0</td>\n",
       "      <td>294.579700</td>\n",
       "      <td>294.579700</td>\n",
       "      <td>539.990000</td>\n",
       "      <td>43.199200</td>\n",
       "      <td>13.499800</td>\n",
       "      <td>100.000000</td>\n",
       "    </tr>\n",
       "    <tr>\n",
       "      <th>max</th>\n",
       "      <td>3578.270000</td>\n",
       "      <td>3578.270000</td>\n",
       "      <td>1.0</td>\n",
       "      <td>2171.294200</td>\n",
       "      <td>2171.294200</td>\n",
       "      <td>3578.270000</td>\n",
       "      <td>286.261600</td>\n",
       "      <td>89.456800</td>\n",
       "      <td>500.000000</td>\n",
       "    </tr>\n",
       "  </tbody>\n",
       "</table>\n",
       "</div>"
      ],
      "text/plain": [
       "          UnitPrice  ExtendedAmount  OrderQuantity  ProductStandardCost  \\\n",
       "count  60398.000000    60398.000000        60398.0         60398.000000   \n",
       "mean     486.086911      486.086911            1.0           286.065657   \n",
       "std      928.489892      928.489892            0.0           552.457641   \n",
       "min        2.290000        2.290000            1.0             0.856500   \n",
       "25%        7.950000        7.950000            1.0             2.973300   \n",
       "50%       29.990000       29.990000            1.0            11.216300   \n",
       "75%      539.990000      539.990000            1.0           294.579700   \n",
       "max     3578.270000     3578.270000            1.0          2171.294200   \n",
       "\n",
       "       TotalProductCost   SalesAmount        TaxAmt       Freight  \\\n",
       "count      60398.000000  60398.000000  60398.000000  60398.000000   \n",
       "mean         286.065657    486.086911     38.886954     12.152217   \n",
       "std          552.457641    928.489892     74.279193     23.212248   \n",
       "min            0.856500      2.290000      0.183200      0.057300   \n",
       "25%            2.973300      7.950000      0.636000      0.198800   \n",
       "50%           11.216300     29.990000      2.399200      0.749800   \n",
       "75%          294.579700    539.990000     43.199200     13.499800   \n",
       "max         2171.294200   3578.270000    286.261600     89.456800   \n",
       "\n",
       "       SafetyStockLevel  \n",
       "count      60398.000000  \n",
       "mean         144.296301  \n",
       "std          200.592882  \n",
       "min            4.000000  \n",
       "25%            4.000000  \n",
       "50%            4.000000  \n",
       "75%          100.000000  \n",
       "max          500.000000  "
      ]
     },
     "execution_count": 136,
     "metadata": {},
     "output_type": "execute_result"
    }
   ],
   "source": [
    "internet_sales_data.describe()"
   ]
  },
  {
   "cell_type": "code",
   "execution_count": 138,
   "id": "5420f93f",
   "metadata": {},
   "outputs": [
    {
     "data": {
      "image/png": "[encoded data removed]",
      "text/plain": [
       "<Figure size 432x288 with 1 Axes>"
      ]
     },
     "metadata": {
      "needs_background": "light"
     },
     "output_type": "display_data"
    }
   ],
   "source": [
    "internet_sales_data.isna().sum().plot(kind=\"bar\")\n",
    "plt.show()"
   ]
  },
  {
   "cell_type": "code",
   "execution_count": 141,
   "id": "41194686",
   "metadata": {},
   "outputs": [
    {
     "name": "stdout",
     "output_type": "stream",
     "text": [
      "  ProductKey       EnglishProductName  \\\n",
      "0        310         Road-150 Red, 62   \n",
      "1        346  Mountain-100 Silver, 44   \n",
      "2        346  Mountain-100 Silver, 44   \n",
      "\n",
      "                                  EnglishDescription  \\\n",
      "0  This bike is ridden by race winners. Developed...   \n",
      "1  Top-of-the-line competition mountain bike. Per...   \n",
      "2  Top-of-the-line competition mountain bike. Per...   \n",
      "\n",
      "  EnglishProductSubcategoryName EnglishProductCategoryName SalesOrderNumber  \\\n",
      "0                    Road Bikes                      Bikes          SO43697   \n",
      "1                Mountain Bikes                      Bikes          SO43698   \n",
      "2                Mountain Bikes                      Bikes          SO43699   \n",
      "\n",
      "   UnitPrice  ExtendedAmount  OrderQuantity  ProductStandardCost  ...  \\\n",
      "0    3578.27         3578.27              1            2171.2942  ...   \n",
      "1    3399.99         3399.99              1            1912.1544  ...   \n",
      "2    3399.99         3399.99              1            1912.1544  ...   \n",
      "\n",
      "   SalesAmount    TaxAmt  Freight  OrderDate   ShipDate    DueDate   Color  \\\n",
      "0      3578.27  286.2616  89.4568 2010-12-29 2011-01-05 2011-01-10     Red   \n",
      "1      3399.99  271.9992  84.9998 2010-12-29 2011-01-05 2011-01-10  Silver   \n",
      "2      3399.99  271.9992  84.9998 2010-12-29 2011-01-05 2011-01-10  Silver   \n",
      "\n",
      "  Size SafetyStockLevel  GrossProfit  \n",
      "0   62              100    1406.9758  \n",
      "1   44              100    1487.8356  \n",
      "2   44              100    1487.8356  \n",
      "\n",
      "[3 rows x 21 columns]\n"
     ]
    }
   ],
   "source": [
    "Gross_profit = internet_sales_data['SalesAmount'] - internet_sales_data[\"TotalProductCost\"]\n",
    "internet_sales_data[\"GrossProfit\"] = Gross_profit\n",
    "print(internet_sales_data.head(3))"
   ]
  },
  {
   "cell_type": "code",
   "execution_count": 148,
   "id": "94a1fa87",
   "metadata": {},
   "outputs": [
    {
     "name": "stdout",
     "output_type": "stream",
     "text": [
      "  ProductKey       EnglishProductName  \\\n",
      "0        310         Road-150 Red, 62   \n",
      "1        346  Mountain-100 Silver, 44   \n",
      "2        346  Mountain-100 Silver, 44   \n",
      "3        336       Road-650 Black, 62   \n",
      "4        346  Mountain-100 Silver, 44   \n",
      "\n",
      "                                  EnglishDescription  \\\n",
      "0  This bike is ridden by race winners. Developed...   \n",
      "1  Top-of-the-line competition mountain bike. Per...   \n",
      "2  Top-of-the-line competition mountain bike. Per...   \n",
      "3  Value-priced bike with many features of our to...   \n",
      "4  Top-of-the-line competition mountain bike. Per...   \n",
      "\n",
      "  EnglishProductSubcategoryName EnglishProductCategoryName SalesOrderNumber  \\\n",
      "0                    Road Bikes                      Bikes          SO43697   \n",
      "1                Mountain Bikes                      Bikes          SO43698   \n",
      "2                Mountain Bikes                      Bikes          SO43699   \n",
      "3                    Road Bikes                      Bikes          SO43700   \n",
      "4                Mountain Bikes                      Bikes          SO43701   \n",
      "\n",
      "   UnitPrice  ExtendedAmount  OrderQuantity  ProductStandardCost  ...  \\\n",
      "0  3578.2700       3578.2700              1            2171.2942  ...   \n",
      "1  3399.9900       3399.9900              1            1912.1544  ...   \n",
      "2  3399.9900       3399.9900              1            1912.1544  ...   \n",
      "3   699.0982        699.0982              1             413.1463  ...   \n",
      "4  3399.9900       3399.9900              1            1912.1544  ...   \n",
      "\n",
      "     TaxAmt  Freight  OrderDate   ShipDate    DueDate   Color Size  \\\n",
      "0  286.2616  89.4568 2010-12-29 2011-01-05 2011-01-10     Red   62   \n",
      "1  271.9992  84.9998 2010-12-29 2011-01-05 2011-01-10  Silver   44   \n",
      "2  271.9992  84.9998 2010-12-29 2011-01-05 2011-01-10  Silver   44   \n",
      "3   55.9279  17.4775 2010-12-29 2011-01-05 2011-01-10   Black   62   \n",
      "4  271.9992  84.9998 2010-12-29 2011-01-05 2011-01-10  Silver   44   \n",
      "\n",
      "  SafetyStockLevel GrossProfit  TotalProfit  \n",
      "0              100   1406.9758    1031.2574  \n",
      "1              100   1487.8356    1130.8366  \n",
      "2              100   1487.8356    1130.8366  \n",
      "3              100    285.9519     212.5465  \n",
      "4              100   1487.8356    1130.8366  \n",
      "\n",
      "[5 rows x 22 columns]\n"
     ]
    }
   ],
   "source": [
    "\n",
    "Total_profit = (internet_sales_data[\"GrossProfit\"] - (internet_sales_data[\"TaxAmt\"] + internet_sales_data[\"Freight\"]))\n",
    "internet_sales_data[\"TotalProfit\"] = Total_profit\n",
    "print(internet_sales_data.head())"
   ]
  },
  {
   "cell_type": "code",
   "execution_count": 147,
   "id": "a36899ad",
   "metadata": {},
   "outputs": [
    {
     "name": "stderr",
     "output_type": "stream",
     "text": [
      "C:\\Users\\48502\\AppData\\Local\\Temp/ipykernel_11016/2655018624.py:2: FutureWarning: Indexing with multiple keys (implicitly converted to a tuple of keys) will be deprecated, use a list instead.\n",
      "  round(internet_sales_data.groupby(\"EnglishProductCategoryName\")[\"SalesAmount\",\"TotalProfit\"].sum(),2)\n"
     ]
    },
    {
     "data": {
      "text/html": [
       "<div>\n",
       "<style scoped>\n",
       "    .dataframe tbody tr th:only-of-type {\n",
       "        vertical-align: middle;\n",
       "    }\n",
       "\n",
       "    .dataframe tbody tr th {\n",
       "        vertical-align: top;\n",
       "    }\n",
       "\n",
       "    .dataframe thead th {\n",
       "        text-align: right;\n",
       "    }\n",
       "</style>\n",
       "<table border=\"1\" class=\"dataframe\">\n",
       "  <thead>\n",
       "    <tr style=\"text-align: right;\">\n",
       "      <th></th>\n",
       "      <th>SalesAmount</th>\n",
       "      <th>TotalProfit</th>\n",
       "    </tr>\n",
       "    <tr>\n",
       "      <th>EnglishProductCategoryName</th>\n",
       "      <th></th>\n",
       "      <th></th>\n",
       "    </tr>\n",
       "  </thead>\n",
       "  <tbody>\n",
       "    <tr>\n",
       "      <th>Accessories</th>\n",
       "      <td>700759.96</td>\n",
       "      <td>365093.22</td>\n",
       "    </tr>\n",
       "    <tr>\n",
       "      <th>Bikes</th>\n",
       "      <td>28318144.65</td>\n",
       "      <td>8532390.57</td>\n",
       "    </tr>\n",
       "    <tr>\n",
       "      <th>Clothing</th>\n",
       "      <td>339772.61</td>\n",
       "      <td>100736.03</td>\n",
       "    </tr>\n",
       "  </tbody>\n",
       "</table>\n",
       "</div>"
      ],
      "text/plain": [
       "                            SalesAmount  TotalProfit\n",
       "EnglishProductCategoryName                          \n",
       "Accessories                   700759.96    365093.22\n",
       "Bikes                       28318144.65   8532390.57\n",
       "Clothing                      339772.61    100736.03"
      ]
     },
     "execution_count": 147,
     "metadata": {},
     "output_type": "execute_result"
    }
   ],
   "source": [
    "##sum of sales and total profit after tax\n",
    "round(internet_sales_data.groupby(\"EnglishProductCategoryName\")[\"SalesAmount\",\"TotalProfit\"].sum(),2)"
   ]
  },
  {
   "cell_type": "code",
   "execution_count": null,
   "id": "14bf34f3",
   "metadata": {},
   "outputs": [],
   "source": []
  }
 ],
 "metadata": {
  "kernelspec": {
   "display_name": "Python 3 (ipykernel)",
   "language": "python",
   "name": "python3"
  },
  "language_info": {
   "codemirror_mode": {
    "name": "ipython",
    "version": 3
   },
   "file_extension": ".py",
   "mimetype": "text/x-python",
   "name": "python",
   "nbconvert_exporter": "python",
   "pygments_lexer": "ipython3",
   "version": "3.9.7"
  }
 },
 "nbformat": 4,
 "nbformat_minor": 5
}
